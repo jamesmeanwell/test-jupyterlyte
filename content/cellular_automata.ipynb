{
 "cells": [
  {
   "cell_type": "markdown",
   "id": "3c56b88d",
   "metadata": {},
   "source": [
    "<a target=\"_blank\" href=\"https://colab.research.google.com/github/alejandrogtz/cccs630-fall2023/blob/main/module02/cellular_automata.ipynb\">\n",
    "  <img src=\"https://colab.research.google.com/assets/colab-badge.svg\" alt=\"Open In Colab\"/>\n",
    "</a>"
   ]
  },
  {
   "cell_type": "markdown",
   "id": "552e2235",
   "metadata": {},
   "source": [
    "# Cellular Automata"
   ]
  },
  {
   "cell_type": "markdown",
   "id": "223c72d2",
   "metadata": {},
   "source": [
    "## Introduction\n",
    "\n",
    "In this module, we will explore cellular automata in more detail. As reviewed previously in the course, a cellular automaton is a collection of coloured cells on a grid of specified shape that evolves through a number of discrete time steps according to a set of rules based on the states of neighbouring cells (https://mathworld.wolfram.com/CellularAutomaton.html).\n",
    "\n",
    "Although these models look simple and easy to understand at first sight, once we study them, we will realize they have the capacity to generate very complex patterns under certain conditions.\n",
    "\n",
    "In preparation for the interaction part, please review the following video that shows amazing patterns and behaviours that are possible to generate using Conway's Game of Life, the cellular automata we will review this week. Consider opening the video on YouTube and watching it in full-screen mode to appreciate the details of the automata."
   ]
  },
  {
   "cell_type": "code",
   "execution_count": 1,
   "id": "db6fcc8d",
   "metadata": {},
   "outputs": [
    {
     "data": {
      "text/html": [
       "<iframe width=\"560\" height=\"315\" src=\"https://www.youtube.com/embed/-FaqC4h5Ftg?si=042u3_rc6W5IrvUK\" frameborder=\"0\" allow=\"accelerometer; autoplay; clipboard-write; encrypted-media; gyroscope; picture-in-picture; web-share\" allowfullscreen></iframe>\n"
      ],
      "text/plain": [
       "<IPython.core.display.HTML object>"
      ]
     },
     "metadata": {},
     "output_type": "display_data"
    }
   ],
   "source": [
    "%%HTML\n",
    "<iframe width=\"560\" height=\"315\" src=\"https://www.youtube.com/embed/-FaqC4h5Ftg?si=042u3_rc6W5IrvUK\" frameborder=\"0\" allow=\"accelerometer; autoplay; clipboard-write; encrypted-media; gyroscope; picture-in-picture; web-share\" allowfullscreen></iframe>"
   ]
  },
  {
   "cell_type": "markdown",
   "id": "534a29ed",
   "metadata": {},
   "source": [
    "## Concepts\n",
    "\n",
    "Below, you will find a list of important concepts we will review in the module.\n",
    "\n",
    "- Cellular automata\n",
    "- Conway's Game of Life\n",
    "- Deterministic models\n",
    "- Discrete time\n",
    "- Initial conditions\n",
    "- States"
   ]
  },
  {
   "cell_type": "markdown",
   "id": "64e79e7d",
   "metadata": {},
   "source": [
    "## Interaction\n",
    "\n",
    "### Cellular Automata\n",
    "\n",
    "In this interaction, we will study the cellular automaton named the Game of Life, but before that, let's review the main features and characteristics of a cellular automaton:\n",
    "\n",
    "- Discrete Grid: A cellular automaton consists of a grid of cells. The grid can be of any finite dimension, though the most common are one-dimensional (a line of cells, like Wolfram's automata) and two-dimensional (similar to a matrix or a chessboard).\n",
    "- States: Each cell in the grid can be in one of a finite number of states, typically two (e.g., \"on\" or \"off\", \"alive\" or \"dead\").\n",
    "- Initial Conditions: The system starts with an initial set of conditions where each cell is set to one of the states.\n",
    "- Local Rules: The state of a cell at the next time step is determined by its current state, the state of its neighbouring cells, and a set of local rules.\n",
    "- Time Evolution: As time progresses, these rules are applied iteratively to produce successive generations or states of the system.\n",
    "- Deterministic: No randomness is involved in the process of updating the states. The next state of a cell is only determined by its current state and the state of its neighbours.\n",
    "\n",
    "### Conway's Game of Life \n",
    "\n",
    "Conway's Game of Life is a cellular automaton created by the British mathematician John Horton Conway in 1970. \n",
    "\n",
    "Conway's Game of Life is not a game in the traditional sense; it is a zero-player game. A human doesn't control the actions and decisions in the game. The evolution of the game is determined by an initial state and a set of simple rules. It doesn't require any further input from human players. \n",
    "\n",
    "The game uses a two-dimensional (2D) grid of square cells, each of which is in one of two possible states:\n",
    "\n",
    "- Alive (1 or on)\n",
    "- Dead (0 or off)\n",
    "\n",
    "Each cell defines its next state based on its eight neighbours, which are the cells that are horizontally, vertically, or diagonally adjacent and follows four simple rules: \n",
    "\n",
    " - Rule 1: If it is alive and has fewer than two live neighbours, it dies due to underpopulation or loneliness.\n",
    " - Rule 2: If it is alive and has two or three live neighbours, it lives.\n",
    " - Rule 3: If it is alive and has more than three live neighbours, it dies due to overpopulation.\n",
    " - Rule 4: If it is dead and has three live neighbours, it becomes alive due to reproduction.\n",
    "\n",
    "So, this cellular automaton is a little more sophisticated because it functions in a two-dimensional grid, and the next state of each cell is determined based on more adjacent cells, not just the ones in the preceding row, like in Wolfram's automata.\n",
    "\n",
    "Conway's game of life produces the following main behaviours:\n",
    "\n",
    "- Still life: Patterns that don't change from one generation to the next (e.g., the Block and the Boat)\n",
    "- Oscillators: Patterns that cycle back to their initial state after a fixed number of generations. The simplest oscillator is the Blinker.\n",
    "- Spaceships: Patterns that move across the grid. The most famous is the Glider, which moves diagonally across the grid.\n",
    "- Guns: Patterns that produce other patterns periodically (e.g., Gosper glider gun).\n",
    "- Complex structures: Initial configurations that can evolve for hundreds of generations before stabilizing.\n",
    "\n",
    "### Instructions\n",
    "\n",
    "- Select or define the initial conditions.\n",
    "- Run the game.\n",
    "- Analyze the patterns generated by the cellular automata. "
   ]
  },
  {
   "cell_type": "code",
   "execution_count": 12,
   "id": "676bd12c",
   "metadata": {},
   "outputs": [],
   "source": [
    "import numpy as np\n",
    "import matplotlib.pyplot as plt\n",
    "from matplotlib import animation, rc\n",
    "\n",
    "# Specify the type of animation to be rendered.\n",
    "rc('animation', html='html5')"
   ]
  },
  {
   "cell_type": "code",
   "execution_count": 13,
   "id": "95059023",
   "metadata": {},
   "outputs": [],
   "source": [
    "# Function to update the grid for each generation.\n",
    "def update_grid(frame):\n",
    "    \n",
    "    # New blank grid. Takes care of rules 1 and 3.\n",
    "    new_grid = np.zeros((grid_size, grid_size), dtype=int) \n",
    "    \n",
    "    for i in range(grid_size):\n",
    "        for j in range(grid_size):\n",
    "            \n",
    "            # Count the number of neighbors.\n",
    "            num_neighbors = np.sum(grid[max(0, i - 1):min(i + 2, grid_size),\n",
    "                                        max(0, j - 1):min(j + 2, grid_size)]) - grid[i, j]\n",
    "            \n",
    "            # Apply the rules of the Game of Life.\n",
    "            if grid[i, j] == 1:\n",
    "                if num_neighbors == 2 or num_neighbors == 3:\n",
    "                    # Cell continues living (Rule 2).\n",
    "                    new_grid[i, j] = 1 \n",
    "            else:\n",
    "                if num_neighbors == 3:\n",
    "                    # Cell becomes alive due to reproduction (Rule 4).\n",
    "                    new_grid[i, j] = 1 \n",
    "\n",
    "    # Update the mat variable for the animation.\n",
    "    mat.set_data(new_grid)\n",
    "    \n",
    "    # Update the grid variable.\n",
    "    grid[:] = new_grid[:]"
   ]
  },
  {
   "cell_type": "code",
   "execution_count": 41,
   "id": "bd460cd7",
   "metadata": {},
   "outputs": [],
   "source": [
    "# Set the size of the grid.\n",
    "grid_size = 100\n",
    "\n",
    "# Set the number of generations.\n",
    "num_generations = 50"
   ]
  },
  {
   "cell_type": "code",
   "execution_count": 43,
   "id": "e5a4f526",
   "metadata": {},
   "outputs": [],
   "source": [
    "# Create an empty grid (Fill with zeros). It resets the grid.\n",
    "grid = np.zeros((grid_size, grid_size), dtype=int)"
   ]
  },
  {
   "cell_type": "code",
   "execution_count": 44,
   "id": "623d2bd4",
   "metadata": {},
   "outputs": [],
   "source": [
    "\"\"\" \n",
    "Define the initial state of the grid. Choose one of the following examples or create your own.\n",
    "\"\"\"\n",
    "# Example 1: Glider gun, one of the most basic dynamic patterns.\n",
    "grid[10:13, 10:13] = np.array([[0, 1, 0],\n",
    "                           [0, 0, 1],\n",
    "                           [1, 1, 1]])"
   ]
  },
  {
   "cell_type": "code",
   "execution_count": 183,
   "id": "32a8d912",
   "metadata": {},
   "outputs": [],
   "source": [
    "# Example 2: Blinker, smallest and most common oscillator.\n",
    "grid[10:13, 10:13] = np.array([[0, 0, 0],\n",
    "                           [1, 1, 1],\n",
    "                           [0, 0, 0]])"
   ]
  },
  {
   "cell_type": "code",
   "execution_count": 156,
   "id": "e5d684a7",
   "metadata": {},
   "outputs": [],
   "source": [
    "# Example 3: Block, most common still life.\n",
    "grid[10:13, 10:13] = np.array([[0, 0, 0],\n",
    "                           [0, 1, 1],\n",
    "                           [0, 1, 1]])"
   ]
  },
  {
   "cell_type": "code",
   "execution_count": 300,
   "id": "65bbe5b4",
   "metadata": {},
   "outputs": [],
   "source": [
    "# Example 4\n",
    "grid[10:13, 10:13] = np.array([[0, 1, 0],\n",
    "                           [1, 1, 1],\n",
    "                           [0, 1, 0]])"
   ]
  },
  {
   "cell_type": "code",
   "execution_count": 52,
   "id": "5c75914a",
   "metadata": {
    "scrolled": true
   },
   "outputs": [
    {
     "data": {
      "image/png": "[encoded data removed]",
      "text/plain": [
       "<Figure size 720x720 with 1 Axes>"
      ]
     },
     "metadata": {},
     "output_type": "display_data"
    }
   ],
   "source": [
    "# Display the initial conditions. Show the first grid.\n",
    "\n",
    "# Create a figure and axis.\n",
    "fig, ax = plt.subplots(figsize=(10,10))\n",
    "\n",
    "# Hide the figure's ticks.\n",
    "ax.tick_params(left = False, right = False , labelleft = False ,\n",
    "                labelbottom = False, bottom = False, labeltop = False)\n",
    "\n",
    "mat = ax.matshow(grid, cmap='binary')"
   ]
  },
  {
   "cell_type": "code",
   "execution_count": 53,
   "id": "2269a38d",
   "metadata": {},
   "outputs": [],
   "source": [
    "# Set the animation update function.\n",
    "ani = animation.FuncAnimation(fig, update_grid, frames=num_generations, interval=500, repeat=False)"
   ]
  },
  {
   "cell_type": "code",
   "execution_count": 54,
   "id": "b18e03b2",
   "metadata": {},
   "outputs": [
    {
     "data": {
      "text/html": [
       "<video width=\"720\" height=\"720\" controls autoplay>\n",
       "  <source type=\"video/mp4\" src=\"data:video/mp4;base64,AAAAIGZ0eXBNNFYgAAACAE00ViBpc29taXNvMmF2YzEAAAAIZnJlZQAAFIFtZGF0AAACoAYF//+c\n",
       "3EXpvebZSLeWLNgg2SPu73gyNjQgLSBjb3JlIDE2MSAtIEguMjY0L01QRUctNCBBVkMgY29kZWMg\n",
       "LSBDb3B5bGVmdCAyMDAzLTIwMjAgLSBodHRwOi8vd3d3LnZpZGVvbGFuLm9yZy94MjY0Lmh0bWwg\n",
       "LSBvcHRpb25zOiBjYWJhYz0xIHJlZj0zIGRlYmxvY2s9MTowOjAgYW5hbHlzZT0weDM6MHgxMTMg\n",
       "bWU9aGV4IHN1Ym1lPTcgcHN5PTEgcHN5X3JkPTEuMDA6MC4wMCBtaXhlZF9yZWY9MSBtZV9yYW5n\n",
       "ZT0xNiBjaHJvbWFfbWU9MSB0cmVsbGlzPTEgOHg4ZGN0PTEgY3FtPTAgZGVhZHpvbmU9MjEsMTEg\n",
       "ZmFzdF9wc2tpcD0xIGNocm9tYV9xcF9vZmZzZXQ9LTIgdGhyZWFkcz0xOCBsb29rYWhlYWRfdGhy\n",
       "ZWFkcz0zIHNsaWNlZF90aHJlYWRzPTAgbnI9MCBkZWNpbWF0ZT0xIGludGVybGFjZWQ9MCBibHVy\n",
       "YXlfY29tcGF0PTAgY29uc3RyYWluZWRfaW50cmE9MCBiZnJhbWVzPTMgYl9weXJhbWlkPTIgYl9h\n",
       "ZGFwdD0xIGJfYmlhcz0wIGRpcmVjdD0xIHdlaWdodGI9MSBvcGVuX2dvcD0wIHdlaWdodHA9MiBr\n",
       "ZXlpbnQ9MjUwIGtleWludF9taW49MiBzY2VuZWN1dD00MCBpbnRyYV9yZWZyZXNoPTAgcmNfbG9v\n",
       "a2FoZWFkPTQwIHJjPWNyZiBtYnRyZWU9MSBjcmY9MjMuMCBxY29tcD0wLjYwIHFwbWluPTAgcXBt\n",
       "YXg9NjkgcXBzdGVwPTQgaXBfcmF0aW89MS40MCBhcT0xOjEuMDAAgAAAAvFliIQAFP/+98dPwKbo\n",
       "+WbLnUU9ITCK2PpIKL1Y7NAyfCAAAAMAAAMAAAMAA7QjP6GlkM8jPmAAAAMCngBjANuDHJpc3UO+\n",
       "f5ACyNXJUT7iXAVLOlU/3Vgf64VBasPGbnJAMoxn8sNQaJ9s/Mt/NSmd5zrJ7rW6A1HoW6KAyfN8\n",
       "SJhjUwf3Lkw1RuhZnXj4kX+JPlsvZgsWPZwSbAOXAC7ydYLfAwePi8HlACB6YE+2ysE3Mz5dJRzA\n",
       "YXTzO84PhNlHWWimXcz8I10DizmmSAlIWTh8KXObms4mtCTr2eOG5jtmWRW320t7UudhYRS1twaS\n",
       "Egwk65ua+0xOcmqOSZDtiGYvetkf4fvx6Cq6/eij4kqXh5WpvI+KDhoxaokeSInUQuMKph+RVmCw\n",
       "s42pIHGPk/LjUjOllIBVnTJXQlmpC9MoUFAABCwZ4OQIYGGEoEEE75kolBejOja6VaoyzbNIHY3O\n",
       "mPSwhF6g7SKLIGmwQeXP/2CVWWIiZeAWFcAJ2TscWUVWIzdu3rzSt+UWTapPX+6DeKRrTkVlB2CZ\n",
       "AATJ2xv/+StoSEHEsqJbvcyoSJ1qTx21gW6DU6SR7oI/k6f1JCGGxy/XX5O6P5MGX90MAAADAAAD\n",
       "AAADAAADAAADAAADAAADAAADAAADAAADAAADAAADAAADAAADAAADAAADAAADAAEMZlYRsEICUmwq\n",
       "m3mgbVF90l5p/EMonxCdORzh0iWCjVu4sAQLwfTFC/jPmwaSTMw65QtJzqn8LbO5K++aIatwDrOE\n",
       "9oFrDJfAqU79gk2VJmp4Qe6ZWeheRZ+Sd4fBk/MKrvCe0C1h4j3voY7P9clzU8IPdMrPKfsXtSEh\n",
       "dS9CJ6jOelng12jjVDncbzyTDIs2m37BTTG2j/6fOrvFxFr2UBWuvfMXzFF9R2HPcfSU7XzP/tkq\n",
       "O/3u1LJQXig1qo2qvHHcMecNNLNYJG9T8fN6mhJjmv0rnct5sVaZcR/9dYAAAAMAAAMAAAMAVsEA\n",
       "AABJQZokbEFf/talUAAAAwA5P0AfaD4j0TQf3b3fzjU3DZAYoABQmMS9p+S975IlIla82MPtea+n\n",
       "igZgIeIiq1vx9AAAAwAAAwDHgAAAAHhBnkJ4gp8AAAMAAE9UD5UbGIAA6+H3Fq2S97zm0UMppLaY\n",
       "eVuqF5CwpXHXK9bGNZJayf1/8o8oyhEsxvHdGKT8qkQblUlmil509qnx3DyZyraTQMhXGz26slUR\n",
       "WdtxPA+baTA5Id2zC//7C0wcqsYpgAAAAwAABTUAAABiAZ5hdEEvAAADAADcrIc4AW1rDRpxpBo9\n",
       "dQDuSCxseR84QvrQhOYezTdPpxvxXl/C8UE9RaMOP+3OYwXxndaJinO3Bf/wAAcUi6bpTOohGA8V\n",
       "dmpsAJyeAUAAAAMAAAMAb8AAAAAxAZ5jakEvAAADAADXuDsJk1c4L9AAOXhyQeXWbx6P8FwoAQ8G\n",
       "detfTgAAAwAAAwBnwQAAAGZBmmZJqEFomUwU8E///rUqgAAAAwGy1BFSvNAldEj0ejQIgI253grd\n",
       "AbvBjW0ktWtFDPF2MDYIq+ZsuiJjxuu6DTzBFtqA76N/6JtPBAJWZvQjf0ki3pVBbHyFcLN4Ev8k\n",
       "AtD8hUEAAABHAZ6FakEvAAADAADXpmWpT0PiV6KSlV6f2AAcvAUfsQa/udASquJ7IbFkwbs9bwG4\n",
       "0X3zNeO9mgA6ey/943CEgAAAAwAAGpEAAAB5QZqISeEKUmUwUsFP/taMsAAAAwBvvm0P+gahfrYm\n",
       "XgHjYKiT9UtX0ljnnD4sQ9miCPZo6YFSW9HdFF/T4EJvAyJwI8RRoJLlasRSn/mOFk/sFe1xe5+2\n",
       "xS3vr6737y4AE/Abz7RbyygF9uFmlK5VPq6aGxCmnQLK2QAAADMBnqdqQS8AAAMAANe4OwkSG//9\n",
       "IFcABCKvEfO5XuejlvjSEjDMrfNHb1NkgAAAAwAAGpAAAAB5QZqsSeEOiZTAgp/+1oywAAADACMN\n",
       "ncUBY4ABx1KgBi5hvWz76vbX9ad1xaei3cb3ibD5gipEuxlr1ADiPGhjxRo6ypyrOoODowgB+mup\n",
       "a1pBy77xwxgLoDgahL+wnmLElS99iFKygy6k0j0GEPPVkAAAAwAAAwBswAAAAFhBnspFFTwU/wAA\n",
       "AwAAGGiW/Y8D3AAHabXYUVkmNLIS7v+om+0PJg25HGQ9//ZRmuz9OEsAStBB1Aw2Y1PaGGWx3keJ\n",
       "8+/fSLG0nsEVCljOAAADAAADAOmBAAAARQGe6XRBLwAAAwAAQz368djQJQAQnegH5zyL4YvjRtZf\n",
       "Z5/uRwWoil8J41xNwiJU8xQ+MiDe6o9Bnwu5zgAAAwAAAwA64AAAAFgBnutqQS8AAAMAAENB00VQ\n",
       "AcdOib1Vb06BJnwCwVURdEOEaTauKKdXm+datSO6tmCaoK13zfVqgBYKd/QRppOnpf/XyPtkq5PM\n",
       "opPDjs1aCAAAAwAAAwEnAAAATkGa8EmoQWiZTAgp//7WjLAAEZ8RgKNikJ8rfvIBGfGkGqxrDDqg\n",
       "xVLfhsNK8cTQxBOiTzhg9LUHcKXGAQQP4raVWOrXXifriP9uQvszRwAAAEpBnw5FESwU/wAAAwAA\n",
       "GGyDxkVfos3I+0AC7dfOF0Q7u6ZP6vsZeeOfA/4mjE+nWmHcSN/+EOWwh7GtqPsFvl2q3TAAAAMA\n",
       "AAMCFwAAADUBny10QS8AAAMAAENKxGPN3ZQAEKGE9gAd55PjgKRUF4jp6vpSTW4DWyBhywAAAwAA\n",
       "AwANmQAAAC8Bny9qQS8AAAMAAEFHo9Bs2Y8+PUU+LgAvUB//Nq2UyornJ5aINgAAAwAAAwAbMAAA\n",
       "ADJBmzRJqEFsmUwIL//+2qZYAAADABEf5bzAL7zyIyInHK0Ek0tUjq2YEUAAAAMAAAMBbQAAAFpB\n",
       "n1JFFSwU/wAAAwAAF5DMXO+dnd+sN6ZGGrnffCVwABjQGZddQeEMiv663v8Hdt29S+2gVLMIUT3M\n",
       "z9pg5McZJv9gMsaRqAZXkE7RKHfb3EzNfAAAAwAABF0AAABEAZ9xdEEvAAADAABBQ4/wjqNriwrX\n",
       "v503Xoo+TQAHLSY/+v4DH5J5mZRBSA/10T0XKSHbABni/yT54lsAAAMAAAMAWUAAAAA1AZ9zakEv\n",
       "AAADAABBSWsX610xYdlHlcACEVuSDqk3Yy6Lxf7rah3PJLIXki/XYAAAAwAAMyAAAAAsQZt4SahB\n",
       "bJlMCC///tqmWAAAAwAFcF5OeROOkH8h+mqLjqrYAAADAAADA2cAAABmQZ+WRRUsFP8AAAMAAAeT\n",
       "WSWJhlvn6lnAALlF4hZr9XGOu4rGZ5CxKT4Im8UkUFZ4ez3Y4dwE41/4A8SX/31Xl2xmtrYXtJ5z\n",
       "1ZDHqTh/kCSpUiJs4+MT8nAKzucZ+AAAAwAAAwNaAAAASQGftXRBLwAAAwAAFYyOi2CCOoANLSNJ\n",
       "r3SyXfJ7RTS8+DGrAxdraUEdLhdBq/dBCQRTXN7Kf/gsqnAngWDflxlDmAAAAwAAD5kAAABRAZ+3\n",
       "akEvAAADAAAVjf25z/BR0IArik5IPMSZXaj65yY2vnrdamH9CdgFy1Zhif/TYJlnjlN+Ls1CJFJu\n",
       "0YKh7mTVidtCXdPSUQAAAwAAAwHHAAAALkGbvEmoQWyZTAgv//7aplgAAAMABXf3tPtUZETjoqCT\n",
       "E7tVh7amaAAAAwAACggAAAA9QZ/aRRUsFP8AAAMAAAeTWSeWDVS9nUhGFxfzMbHlrM86AAOf+X/w\n",
       "SdIDx4Q0mpHU9HEfHACAAAADAABAwQAAAEYBn/l0QS8AAAMAABWMjoPUzsAWJSckHmJMrtR9c5Mb\n",
       "Xz1utVD2+vtTdK7/lrd8SlloQcL8t0I3Sm4+8wDU41gAAAMAAAY8AAAAMAGf+2pBLwAAAwAAFY3/\n",
       "MXmOlBOwXsVHc6GSAAcoZf/gsezAnQwm99EAAAMAAAMBHwAAADJBm+BJqEFsmUwIL//+2qZYAAAD\n",
       "AAVT97itTBc+TnkTjlaCSaVr2ZLRNKAAAAMAAAMCTwAAAEhBnh5FFSwU/wAAAwAAB5NZMROjgeud\n",
       "2Ab3Hw8sF6ABS8F9UUl57VrF5zAqyaAfu+icBks8hpHrSiQP18t7oS23sAAAAwAAU0AAAAA+AZ49\n",
       "dEEvAAADAAAVjI8pFP68L7VIDE2+oCFuxAA66TH/1/AY/JPMzEywiHK/c/LeXYkBv1kvgAAAAwAA\n",
       "MeAAAABGAZ4/akEvAAADAAAVjf8xMBOAI+3OSDzEmV2o+ucmNr563Wqq5pRwD0GkXBNCZlSMJfmB\n",
       "rmLhGC7QatHK0/dgAAADAACmgQAAAFpBmiRJqEFsmUwILf/+1qVQAAADAAGow0okN82F+ZXNWChA\n",
       "BCh1xqeV+nX4uUBea8km+MZfYP2xuRZG6zJ5U586FnLQmkOdFxU4AgmA8MkNHR3u9BquOB9cK4AA\n",
       "AABnQZ5CRRUsFP8AAAMAAAeTWSzFHlLj2gAlrfg0qVvz99/9UycPypAPshPOaps/5mev+VGEr0Mp\n",
       "3pdhJFp3JucduUsT2exF1cLUkbG6wC0P9nV6O78RcO93ws/9GVo3PwAAAwAAAwAJ2QAAAE4BnmF0\n",
       "QS8AAAMAABWMjtIAS61agAIHdo06Z67NqJuyNNhSnxxiCTAYEhIRZSCT4bgrmEY8GAl1pPLaPIW7\n",
       "fFoSWAOl2lxbHAAAAwAAC7gAAABLAZ5jakEvAAADAAAVjf7aAErV7c0kHrqKGAA5sF9/+v4DH5J5\n",
       "vwDSB0s+qw9V6BIy4ODt4WlfyZfMb3vtXfmEbUoKAAADAAADAGLBAAAAXUGaaEmoQWyZTAgt//7W\n",
       "pVAAAAMAAar9kuB/EeiaEC8U6Le2HG/bBvqSADK2WjCNo1hZKuZkJZ8D5EWLb7HuW7l3ZGHeQ+0I\n",
       "1E2bbKnT0otYfofZrF7TBiPyS/IdCQAAAD1BnoZFFSwU/wAAAwAAB5NZLMUVUKZlh+x8M4ADipyA\n",
       "B3NONVRFdKDlX9EMyHXP3uujuF9I5zQAAAMAAA1JAAAARgGepXRBLwAAAwAAFYyO0f/DtQAsSk5I\n",
       "PMSZXaj65yY2vnrdapvcj6m6V3/LVmbPDn2SvWcmz+UwLm51/jpLzAAAAwAAFtEAAAAtAZ6nakEv\n",
       "AAADAAAVjf7Z4HnYs8ehEnHABeoD/+bWJBlRXUCWAAADAAADAAyoAAAATkGarEmoQWyZTAgr//7W\n",
       "pVAAAAMAAaD6AP9Ixx+jOQ9E0MpxRgtU4WzaxB4Hq1vxrYNLhsgdvh0e50UcN/JlHNiNbSCQlJY3\n",
       "2on6sYQvXQAAAEtBnspFFSwU/wAAAwAAB5NZLMO4jgeScd/5BCYeAAM5tADEEFlRMDTDLl21BKVV\n",
       "ZFsav61XSxv1oXG0DeuEnhytlNjsA7AAAAMAAQsAAAA/AZ7pdEEvAAADAAAVjI7R36Nt+hrRAYm3\n",
       "1AQt2IAHXSY/+v4DH5J5mYmWHVXA+nCEwV2BLv1kvgAAAwAAAwKKAAAASQGe62pBLwAAAwAAFY3+\n",
       "2d/+agBYlJyQeYkyu1H1zkxtfPW61U0LVCnMH6NuCaEyNI+5RuL8VFUOWZ2AtLrDJNHhDQAAAwAA\n",
       "CpgAAAAtQZrwSahBbJlMCCn//taMsAAAAwABAFBUif3F6I4To9R9KFL1rZAAAAMAAA6ZAAAAZEGf\n",
       "DkUVLBT/AAADAAAHk1ksmdfUuPaACWt+DSpW/P33/1TJw/KkA+yL6Ym5giTfmev+VGEr0Mp3pdhU\n",
       "ktLN4XVASvYLowmqIqu7PqIVx/nmSyhPdQbX58IEKoC/gAAAAwAAD8kAAABOAZ8tdEEvAAADAAAV\n",
       "jI7OrV7ApqwAhN2jTpnrNMSAk3+Jg0gOMQPlFKonNK95qlC+fF3RjxtbstJ5beIWVIWrQeEyrODO\n",
       "AxwAAAMAACXhAAAAQAGfL2pBLwAAAwAAFY3+1q1eRmFl9GzoAL55xv/r+Ag5J5hiQE997O23XeGJ\n",
       "KwBMM/WyNKvh2uFwQAAAAwAAKCAAAABOQZsxSahBbJlMCCX//rUqgAAAAwAD67j/goI0AR9uckHm\n",
       "JMrtR9c5MbXz1utVpm4Ydajv+WtyqopzxoZOlbfK15x20BwjarkAAAMAAAs4AAAFi21vb3YAAABs\n",
       "bXZoZAAAAAAAAAAAAAAAAAAAA+gAAGGoAAEAAAEAAAAAAAAAAAAAAAABAAAAAAAAAAAAAAAAAAAA\n",
       "AQAAAAAAAAAAAAAAAAAAQAAAAAAAAAAAAAAAAAAAAAAAAAAAAAAAAAAAAAAAAAIAAAS1dHJhawAA\n",
       "AFx0a2hkAAAAAwAAAAAAAAAAAAAAAQAAAAAAAGGoAAAAAAAAAAAAAAAAAAAAAAABAAAAAAAAAAAA\n",
       "AAAAAAAAAQAAAAAAAAAAAAAAAAAAQAAAAALQAAAC0AAAAAAAJGVkdHMAAAAcZWxzdAAAAAAAAAAB\n",
       "AABhqAAAQAAAAQAAAAAELW1kaWEAAAAgbWRoZAAAAAAAAAAAAAAAAAAAQAAABkAAVcQAAAAAAC1o\n",
       "ZGxyAAAAAAAAAAB2aWRlAAAAAAAAAAAAAAAAVmlkZW9IYW5kbGVyAAAAA9htaW5mAAAAFHZtaGQA\n",
       "AAABAAAAAAAAAAAAAAAkZGluZgAAABxkcmVmAAAAAAAAAAEAAAAMdXJsIAAAAAEAAAOYc3RibAAA\n",
       "ALhzdHNkAAAAAAAAAAEAAACoYXZjMQAAAAAAAAABAAAAAAAAAAAAAAAAAAAAAALQAtAASAAAAEgA\n",
       "AAAAAAAAAQAAAAAAAAAAAAAAAAAAAAAAAAAAAAAAAAAAAAAAAAAAABj//wAAADZhdmNDAWQAH//h\n",
       "ABlnZAAfrNlAtBboQAAAAwBAAAADAQPGDGWAAQAGaOvjyyLA/fj4AAAAABx1dWlka2hA8l8kT8W6\n",
       "OaUbzwMj8wAAAAAAAAAYc3R0cwAAAAAAAAABAAAAMgAAIAAAAAAUc3RzcwAAAAAAAAABAAAAAQAA\n",
       "AaBjdHRzAAAAAAAAADIAAAABAABAAAAAAAEAAKAAAAAAAQAAQAAAAAABAAAAAAAAAAEAACAAAAAA\n",
       "AQAAYAAAAAABAAAgAAAAAAEAAGAAAAAAAQAAIAAAAAABAACgAAAAAAEAAEAAAAAAAQAAAAAAAAAB\n",
       "AAAgAAAAAAEAAKAAAAAAAQAAQAAAAAABAAAAAAAAAAEAACAAAAAAAQAAoAAAAAABAABAAAAAAAEA\n",
       "AAAAAAAAAQAAIAAAAAABAACgAAAAAAEAAEAAAAAAAQAAAAAAAAABAAAgAAAAAAEAAKAAAAAAAQAA\n",
       "QAAAAAABAAAAAAAAAAEAACAAAAAAAQAAoAAAAAABAABAAAAAAAEAAAAAAAAAAQAAIAAAAAABAACg\n",
       "AAAAAAEAAEAAAAAAAQAAAAAAAAABAAAgAAAAAAEAAKAAAAAAAQAAQAAAAAABAAAAAAAAAAEAACAA\n",
       "AAAAAQAAoAAAAAABAABAAAAAAAEAAAAAAAAAAQAAIAAAAAABAACgAAAAAAEAAEAAAAAAAQAAAAAA\n",
       "AAABAAAgAAAAAAEAAEAAAAAAHHN0c2MAAAAAAAAAAQAAAAEAAAAyAAAAAQAAANxzdHN6AAAAAAAA\n",
       "AAAAAAAyAAAFmQAAAE0AAAB8AAAAZgAAADUAAABqAAAASwAAAH0AAAA3AAAAfQAAAFwAAABJAAAA\n",
       "XAAAAFIAAABOAAAAOQAAADMAAAA2AAAAXgAAAEgAAAA5AAAAMAAAAGoAAABNAAAAVQAAADIAAABB\n",
       "AAAASgAAADQAAAA2AAAATAAAAEIAAABKAAAAXgAAAGsAAABSAAAATwAAAGEAAABBAAAASgAAADEA\n",
       "AABSAAAATwAAAEMAAABNAAAAMQAAAGgAAABSAAAARAAAAFIAAAAUc3RjbwAAAAAAAAABAAAAMAAA\n",
       "AGJ1ZHRhAAAAWm1ldGEAAAAAAAAAIWhkbHIAAAAAAAAAAG1kaXJhcHBsAAAAAAAAAAAAAAAALWls\n",
       "c3QAAAAlqXRvbwAAAB1kYXRhAAAAAQAAAABMYXZmNTguNDUuMTAw\n",
       "\">\n",
       "  Your browser does not support the video tag.\n",
       "</video>"
      ],
      "text/plain": [
       "<matplotlib.animation.FuncAnimation at 0x22b38fa23a0>"
      ]
     },
     "execution_count": 54,
     "metadata": {},
     "output_type": "execute_result"
    }
   ],
   "source": [
    "# Display the animation.\n",
    "ani"
   ]
  },
  {
   "cell_type": "markdown",
   "id": "101eef55",
   "metadata": {},
   "source": [
    "## Assignment \n",
    "\n",
    "### Conceptual Option\n",
    "\n",
    "Investigate and explain in your own words why the Game of Life is considered to be Turing complete. Include examples, simulations, images, and references that prove this condition. Please submit a 2-3 page Word document with your results.\n",
    "\n",
    "### Hands-on Option\n",
    "\n",
    "Configure three new initial conditions with the interaction code provided and simulate them. Identify the behaviours that emerge using the provided classification and document your findings. If necessary, you can increase the variable num_generations to explore if the pattern converges. Creativity is encouraged. Please submit a 1-2 page Word document with your results and your Jupyter notebook with your initial conditions."
   ]
  },
  {
   "cell_type": "markdown",
   "id": "620c0ef7",
   "metadata": {},
   "source": [
    "## Recommended Readings\n",
    "\n",
    "Once you have completed the interaction portion of the module, please read the following recommended reading.\n",
    "\n",
    "- Chapter 2 - Simple Rules, Pages 35 - 45. Tranquillo, J. V. (2019). An introduction to complex systems: Making sense of a changing world. Springer. https://mcgill.on.worldcat.org/oclc/1087498746"
   ]
  },
  {
   "cell_type": "markdown",
   "id": "c91a666f",
   "metadata": {},
   "source": [
    "## Optional Readings\n",
    "\n",
    "Below you will find additional resources in case you would like to continue exploring the topics covered in this module.\n",
    "\n",
    "- Explore a different approach to constructing Conway's game of life.\n",
    "    - Chapter 6 - Game of Life. Downey, A. (2018). Think complexity: Complexity science and computational modeling (Second). O’Reilly Media. https://mcgill.on.worldcat.org/oclc/1043913738"
   ]
  }
 ],
 "metadata": {
  "kernelspec": {
   "display_name": "Python 3",
   "language": "python",
   "name": "python3"
  },
  "language_info": {
   "codemirror_mode": {
    "name": "ipython",
    "version": 3
   },
   "file_extension": ".py",
   "mimetype": "text/x-python",
   "name": "python",
   "nbconvert_exporter": "python",
   "pygments_lexer": "ipython3",
   "version": "3.8.8"
  }
 },
 "nbformat": 4,
 "nbformat_minor": 5
}
